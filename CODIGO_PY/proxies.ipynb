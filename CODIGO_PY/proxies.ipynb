{
 "cells": [
  {
   "cell_type": "markdown",
   "metadata": {},
   "source": [
    "# WEB SCRAPING PRACTICE - PROXIES"
   ]
  },
  {
   "cell_type": "markdown",
   "metadata": {},
   "source": [
    "## Libraries"
   ]
  },
  {
   "cell_type": "code",
   "execution_count": 105,
   "metadata": {},
   "outputs": [],
   "source": [
    "import pandas as pd\n",
    "from bs4 import BeautifulSoup # Librería para crear objetos tipo soup\n",
    "import urllib3 # Librería para descargar el contenido de una URL definida\n",
    "import numpy as np # Librería para manipular arreglos\n",
    "from sqlalchemy import create_engine # Librería para crear las conexiones con la base de datos Postgre\n",
    "from datetime import datetime\n",
    "from datetime import timedelta, time\n",
    "import pickle\n",
    "import requests\n",
    "import sys\n",
    "import re\n",
    "import random # Librería para generar números randómicos"
   ]
  },
  {
   "cell_type": "markdown",
   "metadata": {},
   "source": [
    "## PROXIES DOWNLOAD"
   ]
  },
  {
   "cell_type": "code",
   "execution_count": 106,
   "metadata": {},
   "outputs": [
    {
     "data": {
      "text/plain": [
       "'\\n\\'Procedimiento para conseguir un listado de direcction de Free Proxy desde la WEB https://www.socks-proxy.net\\'\\n\\'\\n\\'********************\\n\\'\\n\\'Uso:  Se pretende conseguir un listado de Proxies gratis con sus características que permita rotar direcciones IP\\n\\'      válidas para realziar \"WebScrapping\" de diferentes direcciones intentando evitar el bloqueo. \\'\\n\\'\\n\\'Variables de salida dentro:\\n\\'\\n\\'       Se entrega un \"Dataframe\" denominado \"datos_proxies_df\" con estos campos:\\n\\'\\n\\'       \"tiempo\":           Char      \"Contiene la fechay hora de captura formato \"Sat Apr  4 13:36:22 2020\"\\n\\'       \"direccion_ip\"      Char      \"Contiene la dirección IP del Proxy en formato \"XXX.XXX.XXX.XXX\"\\n\\'       \"puerto\"            Char      \"Contiene el puerto asociado a la direccion IP del proxy server\"\\n\\'       \"pais\"              Char      \"País al que parece pertenecer el Proxy\"\\n\\'       \"version\"           Char      \"Tipo de Proxy por ejemplo \"Socks4\"\\n\\'       \"anonimo\"           Char      \"Confirmación de que el servidor en anónimo\"\\n\\'       \"https\"             Char      \"Contirmación de si el proxy admite navegacion (Http:) o (Http: + Https:)\\n\\'       \"actualizacion\"     Char.     \"Indicación del tiempo que hace que se ha comprobado que funcionaba correctamente\\n'"
      ]
     },
     "execution_count": 106,
     "metadata": {},
     "output_type": "execute_result"
    }
   ],
   "source": [
    "'''\n",
    "'Procedimiento para conseguir un listado de direcciones de Free Proxy desde la WEB https://www.socks-proxy.net'\n",
    "'\n",
    "'********************\n",
    "'\n",
    "'Uso:  Se pretende conseguir un listado de Proxies gratis con sus características que permita rotar direcciones IP\n",
    "'      válidas para realziar \"WebScrapping\" de diferentes direcciones intentando evitar el bloqueo. '\n",
    "'\n",
    "'Variables de salida dentro:\n",
    "'\n",
    "'       Se entrega un \"Dataframe\" denominado \"datos_proxies_df\" con estos campos:\n",
    "'\n",
    "'       \"tiempo\":           Char      \"Contiene la fechay hora de captura formato \"Sat Apr  4 13:36:22 2020\"\n",
    "'       \"direccion_ip\"      Char      \"Contiene la dirección IP del Proxy en formato \"XXX.XXX.XXX.XXX\"\n",
    "'       \"puerto\"            Char      \"Contiene el puerto asociado a la direccion IP del proxy server\"\n",
    "'       \"pais\"              Char      \"País al que parece pertenecer el Proxy\"\n",
    "'       \"version\"           Char      \"Tipo de Proxy por ejemplo \"Socks4\"\n",
    "'       \"anonimo\"           Char      \"Confirmación de que el servidor en anónimo\"\n",
    "'       \"https\"             Char      \"Contirmación de si el proxy admite navegacion (Http:) o (Http: + Https:)\n",
    "'       \"actualizacion\"     Char.     \"Indicación del tiempo que hace que se ha comprobado que funcionaba correctamente\n",
    "'''"
   ]
  },
  {
   "cell_type": "code",
   "execution_count": 107,
   "metadata": {},
   "outputs": [],
   "source": [
    "web = \"https://www.socks-proxy.net\""
   ]
  },
  {
   "cell_type": "code",
   "execution_count": 108,
   "metadata": {},
   "outputs": [],
   "source": [
    "# Bloque de preparación de estructuras de datos.\n",
    "columnas = ['tiempo','direccion_ip','puerto','pais', 'version','anonimo','https','actualizacion']\n",
    "\n",
    "# Creamos un DF vacio para contener los datos de esta captura de datos\n",
    "datos_proxies_df = pd.DataFrame(columns=columnas)\n",
    "\n",
    "    \n",
    "# Adquisición de la fecha actual en formato GMT\n",
    "dateToProcess = datetime.utcnow()\n"
   ]
  },
  {
   "cell_type": "code",
   "execution_count": 109,
   "metadata": {},
   "outputs": [],
   "source": [
    "# Bloque de captura de datos desde WEB.\n",
    "\n",
    "# Imputamos una cabecera inidical para navegación inicial.\n",
    "head = {\"User-Agent\":\"Mozilla/5.0 (Windows NT 10.0; Win64; x64; rv:66.0) Gecko/20100101 Firefox/66.0\", \"Accept-Encoding\":\"gzip, deflate\", \"Accept\":\"text/html,application/xhtml+xml,application/xml;q=0.9,*/*;q=0.8\", \"DNT\":\"1\",\"Connection\":\"close\", \"Upgrade-Insecure-Requests\":\"1\"}\n",
    "\n",
    "# Capturamos el contenido desde la web y creamos un objeto tipo 'soup'.\n",
    "r = requests.get(web, headers=head)\n",
    "content = r.content\n",
    "soup = BeautifulSoup(content, \"html.parser\")\n"
   ]
  },
  {
   "cell_type": "code",
   "execution_count": 110,
   "metadata": {},
   "outputs": [],
   "source": [
    "# Bloque PARSING del objeto SOUP.\n",
    "\n",
    "# Obtenemos todos los elementos de 'tbody' y nivel inferior 'tr'\n",
    "tr_all = soup.select('tbody tr')\n",
    "\n",
    "\n",
    "# Recorremos el objeto BS obtenido en búsqueda de las líneas y los TAGs.\n",
    "\n",
    "for tag in tr_all:\n",
    "    \n",
    "    # Capturamos tiempo\n",
    "    tiempo = dateToProcess\n",
    "    \n",
    "    # Capturamos direccion IP         \n",
    "    direccion_ip = tag.find_all()[0].text\n",
    "                \n",
    "    # Capturamos puerto\n",
    "    puerto = tag.find_all()[1].text\n",
    "\n",
    "    # Capturamos pais\n",
    "    pais = tag.find_all()[3].text\n",
    "    \n",
    "    # Capturamos version\n",
    "    version = tag.find_all()[4].text\n",
    " \n",
    "    # Capturamos anonimo\n",
    "    anonimo = tag.find_all()[5].text\n",
    " \n",
    "    # Capturamos https\n",
    "    https = tag.find_all()[6].text\n",
    " \n",
    "    # Capturamos actualizacion\n",
    "    actualizacion = tag.find_all()[7].text\n",
    "\n",
    "    #creamos un diccionario y lo añadimos al dataframe\n",
    "\n",
    "    nueva_fila = {'tiempo':tiempo,'direccion_ip':direccion_ip, 'puerto':puerto,'pais':pais,\n",
    "            'version':version,'anonimo':anonimo,'https':https,\n",
    "            'actualizacion':actualizacion}\n",
    "    \n",
    "    #Añadimos una fila al dataset con los datos capturados\n",
    "    \n",
    "    datos_proxies_df = datos_proxies_df.append(nueva_fila, ignore_index=True)\n",
    "\n",
    "proxy_list =  datos_proxies_df['direccion_ip'].to_list() # Pasamos a una lista todas las direcciones disponibles\n",
    "port_list =  datos_proxies_df['puerto'].to_list() # Pasamos a una lista todos los puertos disponibles\n",
    "limit = datos_proxies_df.shape[0] # Seteamos el valor máximo para la asignación randómica\n",
    "proxy_index = random.randrange(limit) # Seleccionamos un dirección IP y puerto de las disponibles en la lista"
   ]
  },
  {
   "cell_type": "markdown",
   "metadata": {},
   "source": [
    "## Supporting Proxies for web scraper"
   ]
  },
  {
   "cell_type": "code",
   "execution_count": 119,
   "metadata": {},
   "outputs": [],
   "source": [
    "# Creación del argumento para realizar la petición mediante un proxy seleccionado\n",
    "proxies = {\n",
    "  'http': 'http://{}:{}'.format(proxy_list[proxy_index],port_list[proxy_index]),\n",
    "  'https': 'http://{}:{}'.format(proxy_list[proxy_index],port_list[proxy_index])}"
   ]
  },
  {
   "cell_type": "code",
   "execution_count": 120,
   "metadata": {},
   "outputs": [
    {
     "data": {
      "text/plain": [
       "{'http': 'http://23.225.72.97:1080', 'https': 'http://23.225.72.97:1080'}"
      ]
     },
     "execution_count": 120,
     "metadata": {},
     "output_type": "execute_result"
    }
   ],
   "source": [
    "proxies"
   ]
  }
 ],
 "metadata": {
  "kernelspec": {
   "display_name": "Python 3",
   "language": "python",
   "name": "python3"
  },
  "language_info": {
   "codemirror_mode": {
    "name": "ipython",
    "version": 3
   },
   "file_extension": ".py",
   "mimetype": "text/x-python",
   "name": "python",
   "nbconvert_exporter": "python",
   "pygments_lexer": "ipython3",
   "version": "3.7.3"
  }
 },
 "nbformat": 4,
 "nbformat_minor": 2
}
